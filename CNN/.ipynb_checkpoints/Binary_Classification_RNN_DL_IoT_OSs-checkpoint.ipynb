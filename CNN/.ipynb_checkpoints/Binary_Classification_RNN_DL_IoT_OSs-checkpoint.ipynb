{
 "cells": [
  {
   "cell_type": "code",
   "execution_count": 1,
   "metadata": {},
   "outputs": [
    {
     "name": "stderr",
     "output_type": "stream",
     "text": [
      "Using TensorFlow backend.\n"
     ]
    }
   ],
   "source": [
    "import pandas as pd\n",
    "import numpy as np\n",
    "import re, os\n",
    "from string import printable\n",
    "from sklearn import model_selection\n",
    "import tensorflow as tf\n",
    "from keras.models import Sequential, Model, model_from_json, load_model\n",
    "from keras import regularizers\n",
    "from keras.layers.core import Dense, Dropout, Activation, Lambda, Flatten\n",
    "from keras.layers import Input, ELU, LSTM, Embedding, Convolution2D, MaxPooling2D, \\\n",
    "BatchNormalization, Convolution1D, MaxPooling1D, concatenate\n",
    "from keras.preprocessing import sequence\n",
    "from keras.optimizers import SGD, Adam, RMSprop\n",
    "from keras.utils import np_utils\n",
    "from keras import backend as K\n",
    "from pathlib import Path\n",
    "import json\n",
    "import warnings\n",
    "import matplotlib.pyplot as plt\n",
    "warnings.filterwarnings(\"ignore\")\n",
    "import matplotlib.pyplot as plt\n",
    "from keras.layers import Bidirectional, SimpleRNN\n",
    "from keras.callbacks import EarlyStopping\n",
    "from keras.callbacks import TensorBoard, ModelCheckpoint"
   ]
  },
  {
   "cell_type": "markdown",
   "metadata": {},
   "source": [
    "\n",
    "## Deep Learning \n",
    "\n",
    "\n",
    "Requirements:\n",
    "\n",
    "- tensorflow 1.4.1\n",
    "- keras 2.1.2\n"
   ]
  },
  {
   "cell_type": "markdown",
   "metadata": {},
   "source": [
    "## Preprocess "
   ]
  },
  {
   "cell_type": "code",
   "execution_count": 2,
   "metadata": {},
   "outputs": [
    {
     "data": {
      "text/html": [
       "<div>\n",
       "<style scoped>\n",
       "    .dataframe tbody tr th:only-of-type {\n",
       "        vertical-align: middle;\n",
       "    }\n",
       "\n",
       "    .dataframe tbody tr th {\n",
       "        vertical-align: top;\n",
       "    }\n",
       "\n",
       "    .dataframe thead th {\n",
       "        text-align: right;\n",
       "    }\n",
       "</style>\n",
       "<table border=\"1\" class=\"dataframe\">\n",
       "  <thead>\n",
       "    <tr style=\"text-align: right;\">\n",
       "      <th></th>\n",
       "      <th>code</th>\n",
       "      <th>isMalicious</th>\n",
       "    </tr>\n",
       "  </thead>\n",
       "  <tbody>\n",
       "    <tr>\n",
       "      <th>1699</th>\n",
       "      <td>else { dcoConst  =  * (  ( float * )  &amp;cs -&gt; r...</td>\n",
       "      <td>1</td>\n",
       "    </tr>\n",
       "    <tr>\n",
       "      <th>4878</th>\n",
       "      <td>staticvoid G1  (  )    {   int  k ; for  ( k  ...</td>\n",
       "      <td>0</td>\n",
       "    </tr>\n",
       "    <tr>\n",
       "      <th>4738</th>\n",
       "      <td>staticvoid GG2B2  (  )    {  char * data ; dat...</td>\n",
       "      <td>0</td>\n",
       "    </tr>\n",
       "    <tr>\n",
       "      <th>1709</th>\n",
       "      <td>if  ( BI ( CS -&gt; CTL0, CS8 )  )  { dcoConst  =...</td>\n",
       "      <td>1</td>\n",
       "    </tr>\n",
       "    <tr>\n",
       "      <th>4195</th>\n",
       "      <td>namespace CWE415_Double_Free__malloc_free_char...</td>\n",
       "      <td>0</td>\n",
       "    </tr>\n",
       "  </tbody>\n",
       "</table>\n",
       "</div>"
      ],
      "text/plain": [
       "                                                   code  isMalicious\n",
       "1699  else { dcoConst  =  * (  ( float * )  &cs -> r...            1\n",
       "4878  staticvoid G1  (  )    {   int  k ; for  ( k  ...            0\n",
       "4738  staticvoid GG2B2  (  )    {  char * data ; dat...            0\n",
       "1709  if  ( BI ( CS -> CTL0, CS8 )  )  { dcoConst  =...            1\n",
       "4195  namespace CWE415_Double_Free__malloc_free_char...            0"
      ]
     },
     "execution_count": 2,
     "metadata": {},
     "output_type": "execute_result"
    }
   ],
   "source": [
    "## Load data code_snippet\n",
    "DATA_HOME = 'DL/'\n",
    "Final_Labeled_Dataset = pd.read_csv('Dataset of IoT OSs code - training.csv', encoding= 'unicode_escape')\n",
    "Final_Labeled_Dataset.sample(n=5).head(5) "
   ]
  },
  {
   "cell_type": "code",
   "execution_count": 3,
   "metadata": {},
   "outputs": [
    {
     "data": {
      "text/html": [
       "<div>\n",
       "<style scoped>\n",
       "    .dataframe tbody tr th:only-of-type {\n",
       "        vertical-align: middle;\n",
       "    }\n",
       "\n",
       "    .dataframe tbody tr th {\n",
       "        vertical-align: top;\n",
       "    }\n",
       "\n",
       "    .dataframe thead th {\n",
       "        text-align: right;\n",
       "    }\n",
       "</style>\n",
       "<table border=\"1\" class=\"dataframe\">\n",
       "  <thead>\n",
       "    <tr style=\"text-align: right;\">\n",
       "      <th></th>\n",
       "      <th>code</th>\n",
       "      <th>isMalicious</th>\n",
       "    </tr>\n",
       "  </thead>\n",
       "  <tbody>\n",
       "    <tr>\n",
       "      <th>3459</th>\n",
       "      <td>staticvoid G2  (  )    {  if   ( STATIC_CONST...</td>\n",
       "      <td>0</td>\n",
       "    </tr>\n",
       "    <tr>\n",
       "      <th>4682</th>\n",
       "      <td>staticvoid GB2G1  (  )    {  char * data ; da...</td>\n",
       "      <td>0</td>\n",
       "    </tr>\n",
       "    <tr>\n",
       "      <th>757</th>\n",
       "      <td>int32_t control4  =  get_CONTROL (  )  ;  retu...</td>\n",
       "      <td>1</td>\n",
       "    </tr>\n",
       "    <tr>\n",
       "      <th>3884</th>\n",
       "      <td>staticvoid G1  (  )    {   int  k ; for  ( k  ...</td>\n",
       "      <td>0</td>\n",
       "    </tr>\n",
       "    <tr>\n",
       "      <th>375</th>\n",
       "      <td>void harc  (  )  { size_t lenc ;  Ca  (  lenc ...</td>\n",
       "      <td>1</td>\n",
       "    </tr>\n",
       "  </tbody>\n",
       "</table>\n",
       "</div>"
      ],
      "text/plain": [
       "                                                   code  isMalicious\n",
       "3459   staticvoid G2  (  )    {  if   ( STATIC_CONST...            0\n",
       "4682   staticvoid GB2G1  (  )    {  char * data ; da...            0\n",
       "757   int32_t control4  =  get_CONTROL (  )  ;  retu...            1\n",
       "3884  staticvoid G1  (  )    {   int  k ; for  ( k  ...            0\n",
       "375   void harc  (  )  { size_t lenc ;  Ca  (  lenc ...            1"
      ]
     },
     "execution_count": 3,
     "metadata": {},
     "output_type": "execute_result"
    }
   ],
   "source": [
    "Final_Labeled_Dataset.dropna(inplace=True)\n",
    "Final_Labeled_Dataset.drop_duplicates(inplace=True)\n",
    "Final_Labeled_Dataset.sample(n=5).head(5) "
   ]
  },
  {
   "cell_type": "code",
   "execution_count": 4,
   "metadata": {},
   "outputs": [
    {
     "data": {
      "text/plain": [
       "(4598, 2)"
      ]
     },
     "execution_count": 4,
     "metadata": {},
     "output_type": "execute_result"
    }
   ],
   "source": [
    "Final_Labeled_Dataset.shape"
   ]
  },
  {
   "cell_type": "code",
   "execution_count": 5,
   "metadata": {},
   "outputs": [
    {
     "name": "stdout",
     "output_type": "stream",
     "text": [
      "Matrix dimensions of X:  (4598, 150) Vector dimension of target:  (4598,)\n"
     ]
    }
   ],
   "source": [
    "code_snippet_int_tokens = [[printable.index(x) + 1 for x in code_snippet if x in printable] \n",
    "                           for code_snippet in Final_Labeled_Dataset.code]\n",
    "max_len = 150\n",
    "X = sequence.pad_sequences(code_snippet_int_tokens, maxlen=max_len)\n",
    "target = np.array (Final_Labeled_Dataset.isMalicious)\n",
    "print('Matrix dimensions of X: ', X.shape, 'Vector dimension of target: ', target.shape)"
   ]
  },
  {
   "cell_type": "code",
   "execution_count": 6,
   "metadata": {},
   "outputs": [],
   "source": [
    "# Simple Cross-Validation: Split the data set into training and test data\n",
    "X_train, X_test, target_train, target_test = model_selection.train_test_split(X, target, test_size=0.30, random_state=30)"
   ]
  },
  {
   "cell_type": "code",
   "execution_count": 7,
   "metadata": {},
   "outputs": [],
   "source": [
    "def print_layers_dims(model):\n",
    "    l_layers = model.layers\n",
    "    # Note None is ALWAYS batch_size\n",
    "    for i in range(len(l_layers)):\n",
    "        print(l_layers[i])\n",
    "        print('Input Shape: ', l_layers[i].input_shape, 'Output Shape: ', l_layers[i].output_shape)\n",
    "\n",
    "# GENERAL save model to disk function!\n",
    "def save_model(fileModelJSON,fileWeights):\n",
    "    #print(\"Saving model to disk: \",fileModelJSON,\"and\",fileWeights)\n",
    "    #have h5py installed\n",
    "    if Path(fileModelJSON).is_file():\n",
    "        os.remove(fileModelJSON)\n",
    "    json_string = model.to_json()\n",
    "    with open(fileModelJSON,'w' ) as f:\n",
    "        json.dump(json_string, f)\n",
    "    if Path(fileWeights).is_file():\n",
    "        os.remove(fileWeights)\n",
    "    model.save_weights(fileWeights)\n",
    "    \n",
    "\n",
    "# GENERAL load model from disk function!\n",
    "def load_model(fileModelJSON,fileWeights):\n",
    "    #print(\"Saving model to disk: \",fileModelJSON,\"and\",fileWeights)\n",
    "    with open(fileModelJSON, 'r') as f:\n",
    "         model_json = json.load(f)\n",
    "         model = model_from_json(model_json)\n",
    "    \n",
    "    model.load_weights(fileWeights)\n",
    "    return model"
   ]
  },
  {
   "cell_type": "code",
   "execution_count": 8,
   "metadata": {},
   "outputs": [
    {
     "name": "stdout",
     "output_type": "stream",
     "text": [
      "_________________________________________________________________\n",
      "Layer (type)                 Output Shape              Param #   \n",
      "=================================================================\n",
      "input_1 (InputLayer)         (None, 150)               0         \n",
      "_________________________________________________________________\n",
      "embedding_1 (Embedding)      (None, 150, 32)           4800      \n",
      "_________________________________________________________________\n",
      "bidirectional_1 (Bidirection (None, 300)               54900     \n",
      "_________________________________________________________________\n",
      "dense_1 (Dense)              (None, 55)                16555     \n",
      "=================================================================\n",
      "Total params: 76,255\n",
      "Trainable params: 76,255\n",
      "Non-trainable params: 0\n",
      "_________________________________________________________________\n"
     ]
    }
   ],
   "source": [
    "# Deep Learning model Definition - RNN Model for Binary Classification\n",
    "# Main Input\n",
    "main_input = Input(shape=(max_len,),dtype='int32')\n",
    "\n",
    "# Embedded Layers\n",
    "Emb_Layer = Embedding(input_dim=150, output_dim=32, input_length=150, W_regularizer=regularizers.l2(1e-4))(main_input) \n",
    "Emb_Layer = Bidirectional(SimpleRNN(150, return_sequences=False, dropout=0.0, recurrent_dropout=0.0))(Emb_Layer)\n",
    "Emb_Layer = Dense(55, activation='softmax')(Emb_Layer)\n",
    "\n",
    "# RNN Model Settings\n",
    "RNN_model = Model(inputs=main_input, outputs=Emb_Layer)\n",
    "adam = Adam(lr=1e-4, beta_1=0.9, beta_2=0.999, epsilon=1e-08, decay=0.0)\n",
    "RNN_model.compile(optimizer=adam, loss='sparse_categorical_crossentropy', metrics=['accuracy'])\n",
    "RNN_model.summary() "
   ]
  },
  {
   "cell_type": "code",
   "execution_count": null,
   "metadata": {},
   "outputs": [
    {
     "name": "stdout",
     "output_type": "stream",
     "text": [
      "Epoch 1/800\n",
      "3218/3218 [==============================] - 31s 10ms/step - loss: 1.0882 - acc: 0.6569\n",
      "Epoch 2/800\n",
      "3218/3218 [==============================] - 29s 9ms/step - loss: 0.6133 - acc: 0.7014\n",
      "Epoch 3/800\n",
      "3218/3218 [==============================] - 29s 9ms/step - loss: 0.3889 - acc: 0.8341\n",
      "Epoch 4/800\n",
      "2064/3218 [==================>...........] - ETA: 10s - loss: 0.3521 - acc: 0.8493"
     ]
    }
   ],
   "source": [
    "# Fit model and Cross-Validation\n",
    "RNN_history = RNN_model.fit(X_train, target_train, epochs=800, batch_size=16)\n",
    "loss, accuracy = RNN_model.evaluate(X_test, target_test, verbose=1)\n",
    "print('\\nTesting Accuracy =', accuracy, '\\n')\n",
    "\n",
    "\n",
    "print(RNN_history.history.keys())\n",
    "plt.plot(RNN_history.history['acc'])\n",
    "#plt.plot(history.history['loss'])\n",
    "plt.title('The RNN model accuracy')\n",
    "plt.ylabel('Accuracy')\n",
    "plt.xlabel('Epoch')\n",
    "plt.legend(['Accuracy'], loc='lower right')\n",
    "plt.show()\n",
    "\n",
    "print('\\nFinal Cross-Validation Accuracy of RNN training model', accuracy, '\\n')"
   ]
  },
  {
   "cell_type": "code",
   "execution_count": null,
   "metadata": {},
   "outputs": [],
   "source": []
  }
 ],
 "metadata": {
  "kernelspec": {
   "display_name": "Python 3",
   "language": "python",
   "name": "python3"
  },
  "language_info": {
   "codemirror_mode": {
    "name": "ipython",
    "version": 3
   },
   "file_extension": ".py",
   "mimetype": "text/x-python",
   "name": "python",
   "nbconvert_exporter": "python",
   "pygments_lexer": "ipython3",
   "version": "3.5.6"
  }
 },
 "nbformat": 4,
 "nbformat_minor": 2
}
